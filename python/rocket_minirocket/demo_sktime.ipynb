{
 "cells": [
  {
   "cell_type": "markdown",
   "id": "suburban-broadcasting",
   "metadata": {},
   "source": [
    "# Demo \\#2\n",
    "\n",
    "# <code>[github.com/alan-turing-institute/sktime](https://github.com/alan-turing-institute/sktime)</code>"
   ]
  },
  {
   "cell_type": "markdown",
   "id": "processed-chuck",
   "metadata": {},
   "source": [
    "***"
   ]
  },
  {
   "cell_type": "markdown",
   "id": "checked-coach",
   "metadata": {},
   "source": [
    "# Imports"
   ]
  },
  {
   "cell_type": "code",
   "execution_count": null,
   "id": "therapeutic-jordan",
   "metadata": {},
   "outputs": [],
   "source": [
    "import numpy as np\n",
    "\n",
    "from sktime.transformations.panel.rocket import MiniRocket\n",
    "\n",
    "from sklearn.linear_model import RidgeClassifierCV"
   ]
  },
  {
   "cell_type": "code",
   "execution_count": null,
   "id": "derived-potato",
   "metadata": {},
   "outputs": [],
   "source": [
    "from sktime.datasets.base import load_acsf1"
   ]
  },
  {
   "cell_type": "markdown",
   "id": "efficient-xerox",
   "metadata": {},
   "source": [
    "# Load Data"
   ]
  },
  {
   "cell_type": "code",
   "execution_count": null,
   "id": "specified-reconstruction",
   "metadata": {},
   "outputs": [],
   "source": [
    "X_training, Y_training = load_acsf1(split = \"train\", return_X_y = True)\n",
    "\n",
    "X_test, Y_test = load_acsf1(split = \"test\", return_X_y = True)"
   ]
  },
  {
   "cell_type": "markdown",
   "id": "domestic-kingston",
   "metadata": {},
   "source": [
    "# Transform, Train, Test"
   ]
  },
  {
   "cell_type": "code",
   "execution_count": null,
   "id": "hungry-cycling",
   "metadata": {},
   "outputs": [],
   "source": [
    "minirocket = MiniRocket()\n",
    "\n",
    "# transform training set\n",
    "X_training_transform = minirocket.fit_transform(X_training)\n",
    "\n",
    "# train classifier\n",
    "classifier = RidgeClassifierCV(alphas = np.logspace(-3, 3, 10), normalize = True)\n",
    "classifier.fit(X_training_transform, Y_training)\n",
    "\n",
    "# transform test set\n",
    "X_test_transform = minirocket.transform(X_test)\n",
    "\n",
    "# predict\n",
    "accuracy = classifier.score(X_test_transform, Y_test)\n",
    "print(f\"accuracy = {round(accuracy, 2)}\")"
   ]
  },
  {
   "cell_type": "code",
   "execution_count": null,
   "id": "developmental-principle",
   "metadata": {},
   "outputs": [],
   "source": []
  }
 ],
 "metadata": {
  "kernelspec": {
   "display_name": "Python 3",
   "language": "python",
   "name": "python3"
  },
  "language_info": {
   "codemirror_mode": {
    "name": "ipython",
    "version": 3
   },
   "file_extension": ".py",
   "mimetype": "text/x-python",
   "name": "python",
   "nbconvert_exporter": "python",
   "pygments_lexer": "ipython3",
   "version": "3.7.9"
  }
 },
 "nbformat": 4,
 "nbformat_minor": 5
}
