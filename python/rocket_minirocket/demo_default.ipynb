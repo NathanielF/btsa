{
 "cells": [
  {
   "cell_type": "markdown",
   "id": "basic-donna",
   "metadata": {},
   "source": [
    "# Demo \\#1\n",
    "\n",
    "# <code>[github.com/angus924/minirocket](https://github.com/angus924/minirocket)</code>"
   ]
  },
  {
   "cell_type": "markdown",
   "id": "physical-fabric",
   "metadata": {},
   "source": [
    "***"
   ]
  },
  {
   "cell_type": "markdown",
   "id": "chinese-liverpool",
   "metadata": {},
   "source": [
    "# Imports"
   ]
  },
  {
   "cell_type": "code",
   "execution_count": null,
   "id": "controlled-sacramento",
   "metadata": {},
   "outputs": [],
   "source": [
    "import numpy as np\n",
    "\n",
    "from minirocket import fit, transform\n",
    "\n",
    "from sklearn.linear_model import RidgeClassifierCV"
   ]
  },
  {
   "cell_type": "markdown",
   "id": "martial-consultation",
   "metadata": {},
   "source": [
    "# Load Data\n",
    "\n",
    "Note: `np.float32`"
   ]
  },
  {
   "cell_type": "code",
   "execution_count": null,
   "id": "present-executive",
   "metadata": {},
   "outputs": [],
   "source": [
    "dataset = \"ACSF1\"\n",
    "\n",
    "# load training data\n",
    "training_data = np.loadtxt(f\"./data/{dataset}_TRAIN.txt\")\n",
    "X_training, Y_training = training_data[:, 1:].astype(np.float32), training_data[:, 0]\n",
    "\n",
    "# load test data\n",
    "test_data = np.loadtxt(f\"./data/{dataset}_TEST.txt\")\n",
    "X_test, Y_test = test_data[:, 1:].astype(np.float32), test_data[:, 0]"
   ]
  },
  {
   "cell_type": "markdown",
   "id": "faced-tonight",
   "metadata": {},
   "source": [
    "# Transform, Train, Test"
   ]
  },
  {
   "cell_type": "code",
   "execution_count": null,
   "id": "sitting-oxygen",
   "metadata": {},
   "outputs": [],
   "source": [
    "# transform training set\n",
    "parameters = fit(X_training)\n",
    "X_training_transform = transform(X_training, parameters)\n",
    "\n",
    "# train classifier\n",
    "classifier = RidgeClassifierCV(alphas = np.logspace(-3, 3, 10), normalize = True)\n",
    "classifier.fit(X_training_transform, Y_training)\n",
    "\n",
    "# transform test set\n",
    "X_test_transform = transform(X_test, parameters)\n",
    "\n",
    "# predict\n",
    "accuracy = classifier.score(X_test_transform, Y_test)\n",
    "print(f\"accuracy = {round(accuracy, 2)}\")"
   ]
  },
  {
   "cell_type": "code",
   "execution_count": null,
   "id": "automatic-lightning",
   "metadata": {},
   "outputs": [],
   "source": []
  }
 ],
 "metadata": {
  "kernelspec": {
   "display_name": "Python 3",
   "language": "python",
   "name": "python3"
  },
  "language_info": {
   "codemirror_mode": {
    "name": "ipython",
    "version": 3
   },
   "file_extension": ".py",
   "mimetype": "text/x-python",
   "name": "python",
   "nbconvert_exporter": "python",
   "pygments_lexer": "ipython3",
   "version": "3.7.9"
  }
 },
 "nbformat": 4,
 "nbformat_minor": 5
}
